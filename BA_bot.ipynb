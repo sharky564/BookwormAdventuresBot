{
 "cells": [
  {
   "cell_type": "code",
   "execution_count": 1,
   "metadata": {},
   "outputs": [],
   "source": [
    "from BA_utils import *"
   ]
  },
  {
   "cell_type": "code",
   "execution_count": 2,
   "id": "98ddf2f4",
   "metadata": {},
   "outputs": [],
   "source": []
  },
  {
   "cell_type": "code",
   "execution_count": 3,
   "id": "c4b3b0c1",
   "metadata": {},
   "outputs": [],
   "source": []
  },
  {
   "cell_type": "code",
   "execution_count": 4,
   "id": "f549d39b",
   "metadata": {},
   "outputs": [
    {
     "name": "stdout",
     "output_type": "stream",
     "text": [
      "[([V, A, R, I, F, O, R, M], 8.5), ([V, A, R, I, O, L, A, R], 8.5), ([B, A, L, L, R, O, O, M], 7.5), ([B, A, L, M, O, R, A, L], 7.5), ([A, R, M, O, R, I, A, L], 6.75)]\n"
     ]
    }
   ],
   "source": [
    "rack = [Tile('B'), Tile('M'), Tile('I', 'G'), Tile('O'), Tile('R'), Tile('V'), Tile('F'), Tile('R', 'D'), Tile('L'), Tile('V'), Tile('A'), Tile('O'), Tile('A'), Tile('L'), Tile('A'), Tile('A')]\n",
    "s = pos_words2(rack, [], 0, 5)\n",
    "print(s)\n"
   ]
  },
  {
   "cell_type": "code",
   "execution_count": 15,
   "id": "f649f7fd",
   "metadata": {},
   "outputs": [],
   "source": [
    "'''\n",
    "We now want to create an AI that uses a Monte Carlo search to search up to 2 layers deep and determine \n",
    "which word is the best word to play to maximise their score over the next 2 turns. \n",
    "'''\n",
    "\n",
    "def monte_carlo_search(rack, treasures, power=0, num_simulations=100, max_words=5, depth=2):\n",
    "    '''\n",
    "    Uses a Monte Carlo search to determine the best word to play out of the top words, \n",
    "    taking into account the next few turns\n",
    "    '''\n",
    "    # First, we want to generate all possible words that can be played\n",
    "    possible_words = pos_words2(rack, treasures, power, max_words=max_words)\n",
    "    # print(possible_words)\n",
    "    # Now, we want to simulate the next 2 turns for each word, and determine the average score\n",
    "    # We will do this by generating a new rack, and then generating a new word to play\n",
    "    # We will then repeat this num_simulations times\n",
    "    # We will then return the word with the highest average score\n",
    "    best_word = None\n",
    "    best_score = 0\n",
    "    # print(possible_words)\n",
    "    for word in possible_words:\n",
    "        total_score = 0\n",
    "        for i in range(num_simulations):\n",
    "            # print(word[0], treasures, rack)\n",
    "            new_rack = play(word[0], treasures, rack)\n",
    "            # print(new_rack)\n",
    "            if depth > 1:\n",
    "                new_word, new_score = monte_carlo_search(new_rack, treasures, power, num_simulations=1, max_words=max(1, max_words//2), depth=depth-1)\n",
    "            else:\n",
    "                new_words = pos_words2(new_rack, treasures, power, max_words=1)\n",
    "                if len(new_words) == 0:\n",
    "                    new_word, new_score = '', 0\n",
    "                else:\n",
    "                    new_word, new_score = new_words[0]\n",
    "            total_score += new_score\n",
    "        avg_score = word[1] + total_score / num_simulations\n",
    "        if avg_score > best_score:\n",
    "            best_score = avg_score\n",
    "            best_word = word\n",
    "        if depth == 2:\n",
    "            print(''.join([str(tile) for tile in word[0]]), avg_score)\n",
    "    return best_word, best_score"
   ]
  },
  {
   "cell_type": "code",
   "execution_count": 16,
   "id": "c842f6de",
   "metadata": {},
   "outputs": [
    {
     "name": "stdout",
     "output_type": "stream",
     "text": [
      "Emote Rack: :tile_B: :tile_M: :tile_I: :tile_O: :tile_R: :tile_V: :tile_F: :tile_R: :tile_L: :tile_V: :tile_A: :tile_O: :tile_A: :tile_L: :tile_A: :tile_A: \n",
      "Rack: [B, M, I, O, R, V, F, R, L, V, A, O, A, L, A, A]\n",
      "Treasures: []\n",
      "Best words: [('VARIFORM', 8.5), ('VARIOLAR', 8.5), ('BALLROOM', 7.5), ('BALMORAL', 7.5), ('ARMORIAL', 6.75)]\n",
      "VARIFORM 24.2575\n",
      "VARIOLAR 24.7225\n",
      "BALLROOM 22.7425\n",
      "BALMORAL 24.765\n",
      "ARMORIAL 21.380000000000003\n",
      "Best word to play: (([B, A, L, M, O, R, A, L], 7.5), 24.765)\n",
      " \n",
      "*** Profile printout saved to text file 'prun0'.\n"
     ]
    }
   ],
   "source": [
    "%%prun -s cumulative -q -l 10 -T prun0\n",
    "# rack = rack_generation()\n",
    "rack = [Tile('B'), Tile('M'), Tile('I', 'G'), Tile('O'), Tile('R'), Tile('V'), Tile('F'), Tile('R', 'D'), Tile('L'), Tile('V'), Tile('A'), Tile('O'), Tile('A'), Tile('L'), Tile('A'), Tile('A')]\n",
    "emote_rack = ''\n",
    "for tile in rack:\n",
    "    str_letter = tile.letter\n",
    "    if str_letter == 'Q':\n",
    "        str_letter = 'Qu'\n",
    "    emote_rack += ':tile_' + str_letter + ': '\n",
    "treasures = []\n",
    "print(\"Emote Rack:\", emote_rack)\n",
    "print(\"Rack:\", rack)\n",
    "print(\"Treasures:\", treasures)\n",
    "s = pos_words2(rack, treasures, max_words=5)\n",
    "print(\"Best words:\", [(''.join([str(tile) for tile in i[0]]), i[1]) for i in s])\n",
    "print(\"Best word to play:\", monte_carlo_search(rack, treasures, max_words=5, depth=2))"
   ]
  },
  {
   "cell_type": "code",
   "execution_count": null,
   "id": "1fc9e86d",
   "metadata": {},
   "outputs": [],
   "source": [
    "max_val = 0\n",
    "for _ in range(1000):\n",
    "    rack = rack_generation()\n",
    "    s = len(pos_words2(rack, [], max_words=100000))\n",
    "    if max_val < s:\n",
    "        max_val = s\n",
    "        print(rack, s)"
   ]
  },
  {
   "cell_type": "code",
   "execution_count": null,
   "id": "7468ede8",
   "metadata": {},
   "outputs": [],
   "source": [
    "\n",
    "\n",
    "max_letter_counts = {'A': 4, 'B': 3, 'C': 3, 'D': 4, 'E': 4, 'F': 3, 'G': 4, 'H': 3, 'I': 4, 'J': 2, 'K': 2, 'L': 4, 'M': 3, 'N': 4, 'O': 3, 'P': 4, 'Q': 2, 'R': 4, 'S': 4, 'T': 4, 'U': 4, 'V': 3, 'W': 3, 'X': 2, 'Y': 3, 'Z': 2}\n",
    "print([int(max_letter_counts[letter]) for letter in letters])"
   ]
  },
  {
   "cell_type": "code",
   "execution_count": null,
   "id": "b413329c",
   "metadata": {},
   "outputs": [],
   "source": [
    "word_evaluator([tile(i) for i in 'UNTETHERED'], [0, 0])"
   ]
  },
  {
   "cell_type": "code",
   "execution_count": null,
   "id": "9ecb12f2",
   "metadata": {},
   "outputs": [],
   "source": []
  }
 ],
 "metadata": {
  "kernelspec": {
   "display_name": "Python 3",
   "language": "python",
   "name": "python3"
  },
  "language_info": {
   "codemirror_mode": {
    "name": "ipython",
    "version": 3
   },
   "file_extension": ".py",
   "mimetype": "text/x-python",
   "name": "python",
   "nbconvert_exporter": "python",
   "pygments_lexer": "ipython3",
   "version": "3.8.5"
  },
  "vscode": {
   "interpreter": {
    "hash": "08eb3af5abba61db397fac008a66cbdbe2a0e46002ddf351062a97cec907fde1"
   }
  }
 },
 "nbformat": 4,
 "nbformat_minor": 5
}
