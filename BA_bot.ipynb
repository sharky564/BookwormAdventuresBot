{
 "cells": [
  {
   "cell_type": "code",
   "execution_count": 16,
   "metadata": {},
   "outputs": [],
   "source": [
    "from utils import *"
   ]
  },
  {
   "cell_type": "code",
   "execution_count": 17,
   "id": "f649f7fd",
   "metadata": {},
   "outputs": [],
   "source": [
    "'''\n",
    "We now want to create an AI that uses a Monte Carlo search to search up to 2 layers deep and determine \n",
    "which word is the best word to play to maximise their score over the next 2 turns. \n",
    "'''\n",
    "\n",
    "def monte_carlo_search(rack, treasures, num_simulations=100, max_words=5, depth=2):\n",
    "    '''\n",
    "    Uses a Monte Carlo search to determine the best word to play out of the top words, \n",
    "    taking into account the next few turns\n",
    "    '''\n",
    "    # First, we want to generate all possible words that can be played\n",
    "    possible_words = pos_words2(rack, treasures, max_words=max_words)\n",
    "    # print(possible_words)\n",
    "    # Now, we want to simulate the next 2 turns for each word, and determine the average score\n",
    "    # We will do this by generating a new rack, and then generating a new word to play\n",
    "    # We will then repeat this num_simulations times\n",
    "    # We will then return the word with the highest average score\n",
    "    best_word = None\n",
    "    best_score = 0\n",
    "    for word in possible_words:\n",
    "        total_score = 0\n",
    "        for i in range(num_simulations):\n",
    "            new_rack = rack_generation(play(word[0], rack))\n",
    "            if depth > 1:\n",
    "                new_word, new_score = monte_carlo_search(new_rack, treasures, num_simulations=1, max_words=max(1, max_words//2), depth=depth-1)\n",
    "            else:\n",
    "                new_words = pos_words2(new_rack, treasures, max_words=1)\n",
    "                if len(new_words) == 0:\n",
    "                    new_word, new_score = '', 0\n",
    "                else:\n",
    "                    new_word, new_score = new_words[0]\n",
    "            total_score += new_score\n",
    "        avg_score = word[1] + total_score / num_simulations\n",
    "        if avg_score > best_score:\n",
    "            best_score = avg_score\n",
    "            best_word = word\n",
    "        if depth == 2:\n",
    "            print(word, avg_score)\n",
    "    return best_word, best_score"
   ]
  },
  {
   "cell_type": "code",
   "execution_count": 26,
   "id": "c842f6de",
   "metadata": {},
   "outputs": [
    {
     "name": "stdout",
     "output_type": "stream",
     "text": [
      "Emote Rack: :tile_R: :tile_O: :tile_R: :tile_A: :tile_O: :tile_R: :tile_D: :tile_A: :tile_O: :tile_E: :tile_D: :tile_N: :tile_R: :tile_D: :tile_A: :tile_F: \n",
      "Rack: ['R', 'O', 'R', 'A', 'O', 'R', 'D', 'A', 'O', 'E', 'D', 'N', 'R', 'D', 'A', 'F']\n",
      "Treasures: []\n",
      "Best words: [('FORRARDER', 3.5), ('FORRADER', 2.75), ('ADDENDA', 2), ('ADORNED', 2), ('ADORNER', 2), ('READORN', 2), ('DEODAND', 2), ('DEODARA', 2), ('FORDONE', 2), ('FORERAN', 2)]\n",
      "('FORRARDER', 3.5) 14.445\n",
      "('FORRADER', 2.75) 14.1625\n",
      "('ADDENDA', 2) 12.7975\n",
      "('ADORNED', 2) 13.2675\n",
      "('ADORNER', 2) 12.625\n",
      "('READORN', 2) 12.68\n",
      "('DEODAND', 2) 12.2875\n",
      "('DEODARA', 2) 13.6575\n",
      "('FORDONE', 2) 12.685\n",
      "('FORERAN', 2) 12.395\n",
      "Best word to play: (('FORRARDER', 3.5), 14.445)\n",
      " \n",
      "*** Profile printout saved to text file 'prun0'.\n"
     ]
    }
   ],
   "source": [
    "%%prun -s cumulative -q -l 10 -T prun0\n",
    "# rack = rack_generation()\n",
    "rack = list('RORAORDAOEDNRDAF')\n",
    "emote_rack = ''\n",
    "for letter in rack:\n",
    "    str_letter = letter\n",
    "    if letter == 'Q':\n",
    "        str_letter = 'Qu'\n",
    "    emote_rack += ':tile_' + str_letter + ': '\n",
    "treasures = []\n",
    "print(\"Emote Rack:\", emote_rack)\n",
    "print(\"Rack:\", rack)\n",
    "print(\"Treasures:\", treasures)\n",
    "print(\"Best words:\", pos_words2(rack, treasures, max_words=10))\n",
    "print(\"Best word to play:\", monte_carlo_search(rack, treasures, max_words=10, depth=2))"
   ]
  },
  {
   "cell_type": "code",
   "execution_count": 7,
   "id": "1fc9e86d",
   "metadata": {},
   "outputs": [
    {
     "name": "stdout",
     "output_type": "stream",
     "text": [
      "['A', 'A', 'I', 'B', 'U', 'A', 'N', 'G', 'T', 'D', 'G', 'G', 'E', 'A', 'I', 'O'] 620\n",
      "['A', 'F', 'J', 'U', 'A', 'D', 'S', 'A', 'U', 'N', 'E', 'T', 'S', 'G', 'S', 'E'] 696\n",
      "['O', 'M', 'S', 'F', 'I', 'S', 'M', 'Q', 'O', 'P', 'U', 'L', 'P', 'I', 'A', 'R'] 858\n",
      "['E', 'S', 'U', 'P', 'E', 'G', 'I', 'A', 'K', 'N', 'G', 'E', 'A', 'O', 'A', 'H'] 903\n",
      "['E', 'N', 'R', 'U', 'O', 'Y', 'W', 'O', 'E', 'L', 'E', 'Y', 'I', 'R', 'A', 'D'] 1141\n",
      "['G', 'N', 'U', 'S', 'N', 'S', 'L', 'R', 'S', 'E', 'T', 'N', 'L', 'I', 'E', 'L'] 1269\n",
      "['C', 'O', 'U', 'S', 'O', 'L', 'R', 'C', 'A', 'T', 'H', 'P', 'I', 'H', 'S', 'G'] 2347\n",
      "['R', 'S', 'E', 'Y', 'A', 'I', 'L', 'T', 'E', 'N', 'H', 'U', 'C', 'E', 'S', 'F'] 4847\n",
      "['A', 'D', 'E', 'U', 'T', 'I', 'A', 'N', 'H', 'C', 'G', 'R', 'O', 'D', 'V', 'S'] 5977\n",
      "['T', 'A', 'R', 'E', 'N', 'E', 'Y', 'C', 'G', 'W', 'S', 'M', 'I', 'L', 'O', 'R'] 6611\n"
     ]
    }
   ],
   "source": [
    "max_val = 0\n",
    "for _ in range(1000):\n",
    "    rack = rack_generation()\n",
    "    s = len(pos_words2(rack, [], max_words=100000))\n",
    "    if max_val < s:\n",
    "        max_val = s\n",
    "        print(rack, s)"
   ]
  },
  {
   "cell_type": "code",
   "execution_count": 12,
   "id": "7468ede8",
   "metadata": {},
   "outputs": [
    {
     "name": "stdout",
     "output_type": "stream",
     "text": [
      "[4, 3, 3, 4, 4, 3, 4, 3, 4, 2, 2, 4, 3, 4, 3, 4, 2, 4, 4, 4, 4, 3, 3, 2, 3, 2]\n"
     ]
    }
   ],
   "source": [
    "\n",
    "\n",
    "max_letter_counts = {'A': 4, 'B': 3, 'C': 3, 'D': 4, 'E': 4, 'F': 3, 'G': 4, 'H': 3, 'I': 4, 'J': 2, 'K': 2, 'L': 4, 'M': 3, 'N': 4, 'O': 3, 'P': 4, 'Q': 2, 'R': 4, 'S': 4, 'T': 4, 'U': 4, 'V': 3, 'W': 3, 'X': 2, 'Y': 3, 'Z': 2}\n",
    "print([int(max_letter_counts[letter]) for letter in letters])"
   ]
  },
  {
   "cell_type": "code",
   "execution_count": 14,
   "id": "b413329c",
   "metadata": {},
   "outputs": [
    {
     "data": {
      "text/plain": [
       "[('GALUMPHED', 4.5),\n",
       " ('UNEQALLY', 4.5),\n",
       " ('QADPLEX', 4.5),\n",
       " ('AMYGDULE', 3.5),\n",
       " ('FEUDALLY', 3.5),\n",
       " ('FUGLEMAN', 3.5),\n",
       " ('HUMANELY', 3.5),\n",
       " ('MANFULLY', 3.5),\n",
       " ('PLUMAGED', 3.5),\n",
       " ('UNPLAYED', 3.5),\n",
       " ('GLANDULE', 2.75),\n",
       " ('UNGALLED', 2.75),\n",
       " ('FLAGMEN', 2.75),\n",
       " ('FLUMPED', 2.75),\n",
       " ('FUGALLY', 2.75),\n",
       " ('GALUMPH', 2.75),\n",
       " ('GUNPLAY', 2.75),\n",
       " ('HANDFUL', 2.75),\n",
       " ('HELPFUL', 2.75),\n",
       " ('HUMANLY', 2.75)]"
      ]
     },
     "execution_count": 14,
     "metadata": {},
     "output_type": "execute_result"
    }
   ],
   "source": [
    "pos_words2(list(\"PHQGHUMEAYLNLFDX\"), [], max_words=20)"
   ]
  },
  {
   "cell_type": "code",
   "execution_count": null,
   "id": "9ecb12f2",
   "metadata": {},
   "outputs": [],
   "source": []
  }
 ],
 "metadata": {
  "kernelspec": {
   "display_name": "Python 3",
   "language": "python",
   "name": "python3"
  },
  "language_info": {
   "codemirror_mode": {
    "name": "ipython",
    "version": 3
   },
   "file_extension": ".py",
   "mimetype": "text/x-python",
   "name": "python",
   "nbconvert_exporter": "python",
   "pygments_lexer": "ipython3",
   "version": "3.8.5"
  },
  "vscode": {
   "interpreter": {
    "hash": "08eb3af5abba61db397fac008a66cbdbe2a0e46002ddf351062a97cec907fde1"
   }
  }
 },
 "nbformat": 4,
 "nbformat_minor": 5
}
